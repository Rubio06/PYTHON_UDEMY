{
 "cells": [
  {
   "cell_type": "code",
   "execution_count": null,
   "metadata": {},
   "outputs": [
    {
     "name": "stdout",
     "output_type": "stream",
     "text": [
      "la ruta es  c:\\Users\\inoc.rubio\\Desktop\\CURSOS_UDEMY\\CURSO_PYHON\\PYTHON_UDEMY\\INTERMEDIO_PYTHON\n"
     ]
    }
   ],
   "source": [
    "import os \n",
    "\n",
    "##################### GESTION DE DIRCTORIOS ############\n",
    "\n",
    "## Devuelve la ruta\n",
    "print('la ruta es ', os.getcwd())"
   ]
  },
  {
   "cell_type": "code",
   "execution_count": null,
   "metadata": {},
   "outputs": [],
   "source": [
    "## Cambia el directorio de trabajo actual al especificado.\n",
    "print(os.chdir('/ruta/a/nuevo/directorio'))"
   ]
  },
  {
   "cell_type": "code",
   "execution_count": null,
   "metadata": {},
   "outputs": [],
   "source": [
    "## Creacion de directorio y validación si existe\n",
    "crear_directorio = 'INTERMEDIO_PYTHON/modules_examples/modulo'\n",
    "\n",
    "if not os.path.exists(crear_directorio):\n",
    "    os.mkdir(crear_directorio)\n",
    "    print(\"El directorio fue creado correctamente\")\n",
    "else:\n",
    "    print(\"El directorio ya existe\")\n",
    "    "
   ]
  },
  {
   "cell_type": "code",
   "execution_count": 9,
   "metadata": {},
   "outputs": [
    {
     "data": {
      "text/plain": [
       "['01-modulos.py',\n",
       " '02-paquetes.py',\n",
       " '04-datetime.py',\n",
       " '07-math.py',\n",
       " 'archivos_txt',\n",
       " 'modules_examples',\n",
       " 'os.py',\n",
       " 'os_practice.ipynb']"
      ]
     },
     "execution_count": 9,
     "metadata": {},
     "output_type": "execute_result"
    }
   ],
   "source": [
    "## Lista archivos y directorios en el directorio especificado\n",
    "os.listdir()"
   ]
  },
  {
   "cell_type": "code",
   "execution_count": 12,
   "metadata": {},
   "outputs": [],
   "source": [
    "# Crea una carpeta en la ruta especificada, creando todas las carpetas intermedias necesarias.\n",
    "os.makedirs('Modules')"
   ]
  },
  {
   "cell_type": "code",
   "execution_count": null,
   "metadata": {},
   "outputs": [],
   "source": [
    "## Crear un directorio llamado 'nuevo_directorio' en el directorio actual\n",
    "os.mkdir(\"nuevo_directorio\")\n"
   ]
  }
 ],
 "metadata": {
  "kernelspec": {
   "display_name": "Python 3",
   "language": "python",
   "name": "python3"
  },
  "language_info": {
   "codemirror_mode": {
    "name": "ipython",
    "version": 3
   },
   "file_extension": ".py",
   "mimetype": "text/x-python",
   "name": "python",
   "nbconvert_exporter": "python",
   "pygments_lexer": "ipython3",
   "version": "3.12.3"
  }
 },
 "nbformat": 4,
 "nbformat_minor": 2
}
