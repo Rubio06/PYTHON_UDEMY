{
 "cells": [
  {
   "cell_type": "code",
   "execution_count": null,
   "metadata": {},
   "outputs": [
    {
     "name": "stdout",
     "output_type": "stream",
     "text": [
      "     NOMBRE  APELLIDO EDAD\n",
      "0      enoc     rubio   22\n",
      "1    carlos  cardenas   34\n",
      "2   roberto  esparado   55\n",
      "3  Alaberto   Sincope   22\n",
      "0        enoc\n",
      "1      carlos\n",
      "2     roberto\n",
      "3    Alaberto\n",
      "Name: NOMBRE, dtype: object\n",
      "\n",
      "     NOMBRE  APELLIDO\n",
      "0      enoc     rubio\n",
      "1    carlos  cardenas\n",
      "2   roberto  esparado\n",
      "3  Alaberto   Sincope\n",
      "\n"
     ]
    }
   ],
   "source": [
    "# 4. Selección de datos\n",
    "# df['column']: Seleccionar una columna como Serie.\n",
    "# df[['col1', 'col2']]: Seleccionar varias columnas como un DataFrame.\n",
    "# df.loc[row_index, 'column']: Selección por etiqueta de fila y columna.\n",
    "# df.iloc[row_index, col_index]: Selección por índice de fila y columna.\n",
    "\n",
    "import pandas as pd \n",
    "\n",
    "data = {\n",
    "    'NOMBRE': ['enoc', 'carlos', 'roberto', 'Alaberto'],\n",
    "    'APELLIDO': ['rubio', 'cardenas', 'esparado', 'Sincope'],\n",
    "    'EDAD': ['22', '34', '55', '22']\n",
    "}\n",
    "df = pd.DataFrame(data)\n",
    "print(df)\n",
    "\n",
    "### METODOS PARA SELECCION DE DATOS\n",
    "\n",
    "#Selecciona un campo en especifico\n",
    "print(df['NOMBRE'])\n",
    "print(\"\")\n",
    "#Selecciona varias columnas \n",
    "print(df[['NOMBRE', 'APELLIDO']])\n",
    "print(\"\")\n",
    "#Selecciona "
   ]
  },
  {
   "cell_type": "code",
   "execution_count": null,
   "metadata": {},
   "outputs": [],
   "source": [
    "### METODOS PARA SELECCION DE DATOS\n",
    "#df.loc() = Selección por etiqueta de fila y columna. (es como un arreglo) df.loc[row_index, 'nombre columna']\n",
    "print(df.loc[2])\n",
    "\n",
    "print(df.loc[:, 'NOMBRE'])\n",
    "\n",
    "print(df.loc[:, 'EDAD'])\n",
    "\n",
    "print(df.loc[0:1, ['NOMBRE', 'EDAD']])\n",
    "\n",
    "print(df.loc[df['EDAD'] > \"30\"])  # Selecciona filas donde la edad es mayor que 30"
   ]
  },
  {
   "cell_type": "code",
   "execution_count": 3,
   "metadata": {},
   "outputs": [
    {
     "name": "stdout",
     "output_type": "stream",
     "text": [
      "34\n",
      "   APELLIDO EDAD\n",
      "0     rubio   22\n",
      "1  cardenas   34\n",
      "2  esparado   55\n",
      "   APELLIDO EDAD\n",
      "0     rubio   22\n",
      "1  cardenas   34\n",
      "2  esparado   55\n",
      "3   Sincope   22\n",
      "NOMBRE      Alaberto\n",
      "APELLIDO     Sincope\n",
      "EDAD              22\n",
      "Name: 3, dtype: object\n",
      "0    22\n",
      "1    34\n",
      "2    55\n",
      "3    22\n",
      "Name: EDAD, dtype: object\n"
     ]
    }
   ],
   "source": [
    "### METODOS PARA SELECCION DE DATOS\n",
    "#df.iloc() =  en pandas es una herramienta poderosa que se utiliza para seleccionar filas \n",
    "# y columnas por su índice entero (posición) en un DataFrame o Series. Seleciona un campo en especifico por indice\n",
    "# df.loc(fila, columna)\n",
    "\n",
    "print(df.iloc[1,2])\n",
    "\n",
    "print(df.iloc[0:3, 1:3])\n",
    "\n",
    "print(df.iloc[:, 1:3])\n",
    "\n",
    "## SELECIONA LA ULTIMA FILA DEL METODO\n",
    "print(df.iloc[-1])\n",
    "\n",
    "print(df.iloc[:, -1])"
   ]
  },
  {
   "cell_type": "code",
   "execution_count": null,
   "metadata": {},
   "outputs": [],
   "source": [
    "##METODOS PARA SELECCIONAR DATOS\n",
    "# df.iat() = El método iat de pandas se utiliza para acceder a un valor individual \n",
    "# dentro de un DataFrame o Series utilizando la posición entera (índices de fila y columna). \n",
    "# Es muy similar a iloc, pero iat está optimizado para acceder a un solo valor de forma más rápida y eficiente."
   ]
  }
 ],
 "metadata": {
  "kernelspec": {
   "display_name": "Python 3",
   "language": "python",
   "name": "python3"
  },
  "language_info": {
   "codemirror_mode": {
    "name": "ipython",
    "version": 3
   },
   "file_extension": ".py",
   "mimetype": "text/x-python",
   "name": "python",
   "nbconvert_exporter": "python",
   "pygments_lexer": "ipython3",
   "version": "3.11.9"
  }
 },
 "nbformat": 4,
 "nbformat_minor": 2
}
