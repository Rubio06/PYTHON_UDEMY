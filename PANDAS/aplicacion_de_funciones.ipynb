{
 "cells": [
  {
   "cell_type": "code",
   "execution_count": 11,
   "metadata": {},
   "outputs": [
    {
     "name": "stdout",
     "output_type": "stream",
     "text": [
      "    NOMBRE   APELLIDO              EDAD\n",
      "0     enoc    roperto  Es menor de edad\n",
      "1   carlos    arnaldo  Es mayor de edad\n",
      "2  alberto  fernandez  Es menor de edad\n",
      "3  juaquin    carmela  Es mayor de edad\n"
     ]
    }
   ],
   "source": [
    "# df['column'].apply(func): Aplicar una función a cada elemento de una columna.\n",
    "# df.apply(lambda x: x.max() - x.min()): Aplicar funciones a lo largo de filas o columnas.\n",
    "\n",
    "import pandas as pd \n",
    "\n",
    "data = {\n",
    "    \"NOMBRE\": [\"enoc\", \"carlos\", \"alberto\", \"juaquin\"],\n",
    "    \"APELLIDO\": [\"roperto\", \"arnaldo\", \"fernandez\", \"carmela\"],\n",
    "    \"EDAD\": [22, 12, 24,14]\n",
    "}\n",
    "\n",
    "df = pd.DataFrame(data, index=None)\n",
    "\n",
    "df[\"EDAD\"] = df[\"EDAD\"].apply(lambda x: \"Es menor de edad\" if x > 18 else \"Es mayor de edad\")\n",
    "\n",
    "print(df)"
   ]
  }
 ],
 "metadata": {
  "kernelspec": {
   "display_name": "Python 3",
   "language": "python",
   "name": "python3"
  },
  "language_info": {
   "codemirror_mode": {
    "name": "ipython",
    "version": 3
   },
   "file_extension": ".py",
   "mimetype": "text/x-python",
   "name": "python",
   "nbconvert_exporter": "python",
   "pygments_lexer": "ipython3",
   "version": "3.11.9"
  }
 },
 "nbformat": 4,
 "nbformat_minor": 2
}
