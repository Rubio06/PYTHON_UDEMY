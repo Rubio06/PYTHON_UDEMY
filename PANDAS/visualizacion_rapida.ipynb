{
 "cells": [
  {
   "cell_type": "code",
   "execution_count": 11,
   "metadata": {},
   "outputs": [
    {
     "name": "stdout",
     "output_type": "stream",
     "text": [
      "     NOMBRE  APELLIDO EDAD\n",
      "0      enoc     rubio   22\n",
      "1    carlos  cardenas   34\n",
      "2   roberto  esparado   55\n",
      "3  Alaberto   Sincope   22\n",
      "\n",
      "   NOMBRE  APELLIDO EDAD\n",
      "0    enoc     rubio   22\n",
      "1  carlos  cardenas   34\n",
      "\n",
      "     NOMBRE APELLIDO EDAD\n",
      "3  Alaberto  Sincope   22\n",
      "\n",
      "<class 'pandas.core.frame.DataFrame'>\n",
      "RangeIndex: 4 entries, 0 to 3\n",
      "Data columns (total 3 columns):\n",
      " #   Column    Non-Null Count  Dtype \n",
      "---  ------    --------------  ----- \n",
      " 0   NOMBRE    4 non-null      object\n",
      " 1   APELLIDO  4 non-null      object\n",
      " 2   EDAD      4 non-null      object\n",
      "dtypes: object(3)\n",
      "memory usage: 228.0+ bytes\n",
      "None\n",
      "\n",
      "       NOMBRE APELLIDO EDAD\n",
      "count       4        4    4\n",
      "unique      4        4    3\n",
      "top      enoc    rubio   22\n",
      "freq        1        1    2\n"
     ]
    }
   ],
   "source": [
    "# df.head(n): Ver las primeras n filas (por defecto, n=5).\n",
    "# df.tail(n): Ver las últimas n filas.\n",
    "# df.info(): Información general sobre el DataFrame (tipos de datos, valores nulos, etc.).\n",
    "# df.describe(): Estadísticas descriptivas de las columnas numéricas.\n",
    "\n",
    "import pandas as pd \n",
    "\n",
    "\n",
    "data = {\n",
    "    'NOMBRE': ['enoc', 'carlos', 'roberto', 'Alaberto'],\n",
    "    'APELLIDO': ['rubio', 'cardenas', 'esparado', 'Sincope'],\n",
    "    'EDAD': ['22', '34', '55', '22']\n",
    "}\n",
    "\n",
    "df = pd.DataFrame(data)\n",
    "print(df)\n",
    "print(\"\")\n",
    "print(df.head(2))\n",
    "print(\"\")\n",
    "print(df.tail(1))\n",
    "print(\"\")\n",
    "print(df.info())\n",
    "print(\"\")\n",
    "print(df.describe())\n",
    "\n"
   ]
  }
 ],
 "metadata": {
  "kernelspec": {
   "display_name": "Python 3",
   "language": "python",
   "name": "python3"
  },
  "language_info": {
   "codemirror_mode": {
    "name": "ipython",
    "version": 3
   },
   "file_extension": ".py",
   "mimetype": "text/x-python",
   "name": "python",
   "nbconvert_exporter": "python",
   "pygments_lexer": "ipython3",
   "version": "3.11.9"
  }
 },
 "nbformat": 4,
 "nbformat_minor": 2
}
