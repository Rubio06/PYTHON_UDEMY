{
 "cells": [
  {
   "cell_type": "code",
   "execution_count": 7,
   "metadata": {},
   "outputs": [
    {
     "name": "stdout",
     "output_type": "stream",
     "text": [
      "   NOMBRE  APELLIDO   EDAD\n",
      "0   False     False  False\n",
      "1   False     False  False\n",
      "2   False     False  False\n",
      "3   False     False  False\n",
      "\n",
      "     NOMBRE  APELLIDO EDAD\n",
      "0      enoc     rubio   22\n",
      "1    carlos  cardenas   34\n",
      "2   roberto  esparado   55\n",
      "3  Alaberto   Sincope   22\n",
      "\n",
      "     NOMBRE  APELLIDO EDAD\n",
      "0      enoc     rubio   22\n",
      "1    carlos  cardenas   34\n",
      "2   roberto  esparado   55\n",
      "3  Alaberto   Sincope   22\n"
     ]
    }
   ],
   "source": [
    "# 7. Tratamiento de valores nulos\n",
    "# df.isnull(): Ver dónde hay valores nulos.\n",
    "# df.dropna(): Eliminar filas con valores nulos.\n",
    "# df.fillna(value): Rellenar valores nulos con un valor específico.\n",
    "\n",
    "import pandas as pd \n",
    "\n",
    "data = {\n",
    "    'NOMBRE': ['enoc', 'carlos', 'roberto', 'Alaberto'],\n",
    "    'APELLIDO': ['rubio', 'cardenas', 'esparado', 'Sincope'],\n",
    "    'EDAD': ['22', '34', '55', '22']\n",
    "} \n",
    "\n",
    "df = pd.DataFrame(data=data, index=None)\n",
    "\n",
    "print(df.isnull())\n",
    "print(\"\")\n",
    "print(df.dropna())\n",
    "print(\"\")\n",
    "print(df.fillna(\"Hola\"))\n",
    "\n"
   ]
  }
 ],
 "metadata": {
  "kernelspec": {
   "display_name": "Python 3",
   "language": "python",
   "name": "python3"
  },
  "language_info": {
   "codemirror_mode": {
    "name": "ipython",
    "version": 3
   },
   "file_extension": ".py",
   "mimetype": "text/x-python",
   "name": "python",
   "nbconvert_exporter": "python",
   "pygments_lexer": "ipython3",
   "version": "3.12.3"
  }
 },
 "nbformat": 4,
 "nbformat_minor": 2
}
